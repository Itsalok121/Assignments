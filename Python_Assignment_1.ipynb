{
 "cells": [
  {
   "cell_type": "markdown",
   "metadata": {
    "collapsed": false
   },
   "source": [
    "##### Q1. Why do we call Python as a general purpose and high\\-level programming language?\n",
    "Python is called a general\\-purpose and high\\-level programming language because it's suitable for various applications and is written in humanly readable format.\n",
    "\n",
    "##### Q2. Why is Python called a dynamically typed language?\n",
    "Python is called a dynamically typed language because variable types are determined at runtime, making it possible to reassign a variable during the run of the program.\n",
    "\n",
    "##### Q3. List some pros and cons of Python programming language?\n",
    "Pros of Python:\n",
    "\n",
    "    Readability and simplicity.\n",
    "    Rich standard library.\n",
    "    Cross-platform compatibility.\n",
    "    Strong community support.\n",
    "    Extensive third-party libraries.\n",
    "\n",
    "Cons of Python:\n",
    "\n",
    "    Slower execution speed compared to compiled languages.\n",
    "    Global Interpreter Lock (GIL) limits multi-threading performance.\n",
    "    Not ideal for memory-intensive tasks.\n",
    "    Limited support for mobile and game development.\n",
    "    May have version compatibility issues when migrating between Python 2 and 3.\n",
    "\n",
    "##### Q4. In what all domains can we use Python?\n",
    "\n",
    "Python can be used in various domains, including web development, data science, machine learning, artificial intelligence, automation, scientific computing, and more.\n",
    "\n",
    "##### Q5. What are variable and how can we declare them?\n",
    "\n",
    "Variables in Python are used to store data. We can declare them by specifying a name and assigning a value, e.g., x = 10.\n",
    "\n",
    "##### Q6. How can we take an input from the user in Python?\n",
    "\n",
    "To take input from the user in Python, we can use the input() function, like this: ip = input(\"Enter something: \").\n",
    "\n",
    "##### Q7. What is the default datatype of the value that has been taken as an input using input() function?\n",
    "\n",
    "It returns a string by default.\n",
    "\n",
    "##### Q8. What is type casting?\n",
    "\n",
    "Type casting is the process of converting a value from one data type to another, like converting a string to an integer or vice versa.\n",
    "\n",
    "##### Q9. Can we take more than one input from the user using single input() function? If yes, how? If no, why?\n",
    "\n",
    "Yes, we can take multiple inputs from the user in a single input() function call by separating the values with commas. For example: a, b = input(\"Enter two values: \").split()\n",
    "\n",
    "##### Q10. What are keywords?\n",
    "\n",
    "Keywords are reserved words in Python with special meanings and cannot be used as variable names.\n",
    "\n",
    "##### Q11. Can we use keywords as a variable? Support your answer with reason.\n",
    "\n",
    "No, we cannot use keywords as variables because they have predefined meanings in Python.\n",
    "\n",
    "##### Q12. What is indentation? What's the use of indentaion in Python?\n",
    "\n",
    "Indentation in Python is the use of spaces or tabs at the beginning of a line to define code blocks and scope. It is crucial for proper code structure and determines how the program executes.\n",
    "\n",
    "##### Q13. How can we throw some output in Python?\n",
    "\n",
    "We can display output in Python using the print() function.\n",
    "\n",
    "##### Q14. What are operators in Python?\n",
    "\n",
    "Operators in Python are symbols or special words used to perform operations on variables and values.\n",
    "\n",
    "##### Q15. What is difference between / and // operators?\n",
    "\n",
    "The / operator performs division, returning a float result, while the // operator performs division and returns an integer value.\n",
    "\n"
   ]
  },
  {
   "cell_type": "markdown",
   "metadata": {
    "collapsed": false
   },
   "source": [
    "##### Q16. Write a code that gives following as an output. '''iNeuroniNeuroniNeuroniNeuron'''"
   ]
  },
  {
   "cell_type": "code",
   "execution_count": 1,
   "metadata": {
    "collapsed": false,
    "trusted": true
   },
   "outputs": [
    {
     "name": "stdout",
     "output_type": "stream",
     "text": [
      "iNeuroniNeuroniNeuroniNeuron\n"
     ]
    }
   ],
   "source": [
    "print('iNeuroniNeuroniNeuroniNeuron')"
   ]
  },
  {
   "cell_type": "markdown",
   "metadata": {
    "collapsed": false
   },
   "source": [
    "##### Q17. Write a code to take a number as an input from the user and check if the number is odd or even."
   ]
  },
  {
   "cell_type": "code",
   "execution_count": 1,
   "metadata": {
    "cocalc": {
     "outputs": {
      "0": {
       "name": "input",
       "opts": {
        "password": false,
        "prompt": "Enter a number: "
       },
       "output_type": "stream",
       "value": "4"
      }
     }
    },
    "collapsed": false,
    "tags": [],
    "trusted": true
   },
   "outputs": [
    {
     "name": "stdout",
     "output_type": "stream",
     "text": [
      "Enter a number:  4"
     ]
    },
    {
     "name": "stdout",
     "output_type": "stream",
     "text": [
      "Entered number was an even number\n"
     ]
    }
   ],
   "source": [
    "number = int(input(\"Enter a number: \"))\n",
    "\n",
    "if (number%2) == 0:\n",
    "    print(\"Entered number was an even number\")\n",
    "else:\n",
    "    print(\"Entered number was an odd number\")"
   ]
  },
  {
   "cell_type": "markdown",
   "metadata": {
    "collapsed": false,
    "tags": []
   },
   "source": [
    "##### Q18. What are boolean operator?\n",
    "Boolean operators in Python are used to perform logical operations on Boolean values (True or False). "
   ]
  },
  {
   "cell_type": "markdown",
   "metadata": {
    "collapsed": false
   },
   "source": [
    "##### Q19. What will the output of the following?\n",
    "1 or 0\n",
    "\n",
    "0 and 0\n",
    "\n",
    "True and False and True\n",
    "\n",
    "1 or 0 or 0\n",
    "\n",
    "Ans: 1, 0, False, 1"
   ]
  },
  {
   "cell_type": "markdown",
   "metadata": {
    "collapsed": false
   },
   "source": [
    "##### Q20. What are conditional statements in Python?\n",
    "Conditional statements in Python are used to make decisions in your code based on specified conditions. ex: if, else, elif\n",
    "\n",
    "##### Q21. What is use of 'if', 'elif' and 'else' keywords?\n",
    "'if' is used to check if a condition is true and execute a block of code if the condition is met.'elif' is used to check for multiple conditions if the initial 'if' condition is not met. 'else' is used after an 'if' or 'elif' statement to define a block of code that will be executed when none of the preceding conditions are true.\n",
    "\n",
    "##### Q22. Write a code to take the age of person as an input and if age >= 18 display \"I can vote\". If age is < 18 display \"I can't vote\"."
   ]
  },
  {
   "cell_type": "code",
   "execution_count": 4,
   "metadata": {
    "cocalc": {
     "outputs": {
      "0": {
       "name": "input",
       "opts": {
        "password": false,
        "prompt": "Enter an age"
       },
       "output_type": "stream",
       "value": "17"
      }
     }
    },
    "collapsed": false
   },
   "outputs": [
    {
     "name": "stdout",
     "output_type": "stream",
     "text": [
      "Enter an age 17"
     ]
    },
    {
     "name": "stdout",
     "output_type": "stream",
     "text": [
      "I can't vote\n"
     ]
    }
   ],
   "source": [
    "age = int(input(\"Enter an age\"))\n",
    "\n",
    "if age >= 18:\n",
    "    print(\"I can vote\")\n",
    "else:\n",
    "    print(\"I can't vote\")"
   ]
  },
  {
   "cell_type": "markdown",
   "metadata": {
    "collapsed": false
   },
   "source": [
    "##### Q23. Write a code that displays the sum of all the even numbers from the given list.\n",
    "```\n",
    "numbers = [12, 75, 150, 180, 145, 525, 50]\n",
    "```"
   ]
  },
  {
   "cell_type": "code",
   "execution_count": 7,
   "metadata": {
    "collapsed": false
   },
   "outputs": [
    {
     "name": "stdout",
     "output_type": "stream",
     "text": [
      "Sum of even number in the list is:  392\n"
     ]
    }
   ],
   "source": [
    "numbers = [12, 75, 150, 180, 145, 525, 50]\n",
    "sum = 0\n",
    "\n",
    "for num in numbers:\n",
    "    if num%2 == 0:\n",
    "        sum = sum + num\n",
    "\n",
    "print(\"Sum of even number in the list is: \", sum)"
   ]
  },
  {
   "cell_type": "markdown",
   "metadata": {
    "collapsed": false
   },
   "source": [
    "##### Q24. Write a code to take 3 numbers as an input from the user and display the greatest no as output."
   ]
  },
  {
   "cell_type": "code",
   "execution_count": 9,
   "metadata": {
    "cocalc": {
     "outputs": {
      "0": {
       "name": "input",
       "opts": {
        "password": false,
        "prompt": "Enter 1st number: "
       },
       "output_type": "stream",
       "value": "5"
      },
      "1": {
       "name": "input",
       "opts": {
        "password": false,
        "prompt": "Enter 2nd number: "
       },
       "output_type": "stream",
       "value": "7"
      },
      "2": {
       "name": "input",
       "opts": {
        "password": false,
        "prompt": "Enter 3rd number: "
       },
       "output_type": "stream",
       "value": "3"
      }
     }
    },
    "collapsed": false
   },
   "outputs": [
    {
     "name": "stdout",
     "output_type": "stream",
     "text": [
      "Enter 1st number:  5"
     ]
    },
    {
     "name": "stdout",
     "output_type": "stream",
     "text": [
      "Enter 2nd number:  7"
     ]
    },
    {
     "name": "stdout",
     "output_type": "stream",
     "text": [
      "Enter 3rd number:  3"
     ]
    },
    {
     "name": "stdout",
     "output_type": "stream",
     "text": [
      "The largest number among the three entered value is :  7\n"
     ]
    }
   ],
   "source": [
    "num1 = int(input(\"Enter 1st number: \"))\n",
    "num2 = int(input(\"Enter 2nd number: \"))\n",
    "num3 = int(input(\"Enter 3rd number: \"))\n",
    "\n",
    "list_num = [num1, num2, num3]\n",
    "\n",
    "greatest_num = max(list_num)\n",
    "    \n",
    "print(\"The largest number among the three entered value is : \", greatest_num )"
   ]
  },
  {
   "cell_type": "code",
   "execution_count": null,
   "metadata": {
    "collapsed": false
   },
   "outputs": [],
   "source": [
    "Q25. Write a program to display only those numbers from a list that satisfy the following conditions\n",
    "\n",
    "- The number must be divisible by five\n",
    "\n",
    "- If the number is greater than 150, then skip it and move to the next number\n",
    "\n",
    "- If the number is greater than 500, then stop the loop\n",
    "```\n",
    "numbers = [12, 75, 150, 180, 145, 525, 50]\n",
    "```"
   ]
  },
  {
   "cell_type": "markdown",
   "metadata": {
    "collapsed": false
   },
   "source": [
    "##### Q25. Write a program to display only those numbers from a list that satisfy the following conditions\n",
    "\n",
    "- The number must be divisible by five\n",
    "\n",
    "- If the number is greater than 150, then skip it and move to the next number\n",
    "\n",
    "- If the number is greater than 500, then stop the loop\n",
    "```\n",
    "numbers = [12, 75, 150, 180, 145, 525, 50]\n",
    "```"
   ]
  },
  {
   "cell_type": "code",
   "execution_count": 10,
   "metadata": {
    "collapsed": false
   },
   "outputs": [
    {
     "name": "stdout",
     "output_type": "stream",
     "text": [
      "[75, 150, 145, 50]\n"
     ]
    }
   ],
   "source": [
    "numbers = [12, 75, 150, 180, 145, 525, 50]\n",
    "\n",
    "list_num = []\n",
    "\n",
    "for num in numbers:\n",
    "    if num%5 == 0:\n",
    "        if num > 150:\n",
    "            continue\n",
    "        elif num > 500:\n",
    "            break\n",
    "        else:\n",
    "            list_num.append(num)\n",
    "\n",
    "print(list_num)\n"
   ]
  },
  {
   "cell_type": "code",
   "execution_count": null,
   "metadata": {
    "collapsed": false
   },
   "outputs": [],
   "source": []
  }
 ],
 "metadata": {
  "kernelspec": {
   "argv": [
    "/usr/bin/python3",
    "-m",
    "ipykernel",
    "--HistoryManager.enabled=False",
    "--matplotlib=inline",
    "-c",
    "%config InlineBackend.figure_formats = set(['retina'])\nimport matplotlib; matplotlib.rcParams['figure.figsize'] = (12, 7)",
    "-f",
    "{connection_file}"
   ],
   "display_name": "Python 3 (system-wide)",
   "env": {},
   "language": "python",
   "metadata": {
    "cocalc": {
     "description": "Python 3 programming language",
     "priority": 100,
     "url": "https://www.python.org/"
    }
   },
   "name": "python3",
   "resource_dir": "/ext/jupyter/kernels/python3"
  },
  "language_info": {
   "codemirror_mode": {
    "name": "ipython",
    "version": 3
   },
   "file_extension": ".py",
   "mimetype": "text/x-python",
   "name": "python",
   "nbconvert_exporter": "python",
   "pygments_lexer": "ipython3",
   "version": "3.10.12"
  }
 },
 "nbformat": 4,
 "nbformat_minor": 4
}
